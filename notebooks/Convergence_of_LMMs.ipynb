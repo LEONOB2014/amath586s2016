{
 "cells": [
  {
   "cell_type": "markdown",
   "metadata": {},
   "source": [
    "# Convergence of Linear Multistep Methods\n",
    "\n",
    "This notebook shows three methods applied to the same problem $u\\prime(t) = \\lambda (u(t)-\\cos(t)) - \\sin(t)$ with data $u(0) = \\eta = 1$, for which the true solution is just $u(t) = \\cos(t)$.\n",
    "\n",
    "Note the following:\n",
    "- The Forward Euler method looks bad if $k$ is too large but for small enough $k$ looks fine, and converges.\n",
    "- The midpoint method converges up to any finite $T$ as the timestep is reduced, but eventually goes bad no matter how small $k$ is.  It is zero-stable but we will see there are issues with \"absolute stability\".\n",
    "- The third method is non-convergent for any $T>0$ even though it is consistent and the local truncation error is $O(k)$.\n",
    "- The value $\\lambda =-5$ is used here.  Changing this value doesn't affect the true solution (when $\\eta = 1$) but does affect the behavior of the numerical methods."
   ]
  },
  {
   "cell_type": "code",
   "execution_count": null,
   "metadata": {
    "collapsed": false
   },
   "outputs": [],
   "source": [
    "%pylab inline"
   ]
  },
  {
   "cell_type": "code",
   "execution_count": null,
   "metadata": {
    "collapsed": true
   },
   "outputs": [],
   "source": [
    "from ipywidgets import interact"
   ]
  },
  {
   "cell_type": "code",
   "execution_count": null,
   "metadata": {
    "collapsed": false
   },
   "outputs": [],
   "source": [
    "lam = -5.\n",
    "t0 = 0.\n",
    "tfinal = 10.\n",
    "eta = 1.\n",
    "\n",
    "# function f(u,t) (as a \"lambda function\")\n",
    "f = lambda u,t: lam*(u-cos(t)) - sin(t)\n",
    "\n",
    "utrue = lambda t: exp(lam*(t-t0))*(eta - cos(t0)) + cos(t)\n",
    "tfine = linspace(t0, tfinal, 1000)  # fine grid for plotting true solution\n",
    "ufine = utrue(tfine)\n",
    "plot(tfine,ufine)\n",
    "title('True solution')"
   ]
  },
  {
   "cell_type": "markdown",
   "metadata": {},
   "source": [
    "## Forward Euler"
   ]
  },
  {
   "cell_type": "code",
   "execution_count": null,
   "metadata": {
    "collapsed": true
   },
   "outputs": [],
   "source": [
    "def euler(nsteps):\n",
    "    t = linspace(t0, tfinal, nsteps+1)\n",
    "    dt = t[1] - t[0]\n",
    "    U = zeros(nsteps+1)  # array for computed solution\n",
    "    U[0] = eta\n",
    "    for n in range(nsteps):\n",
    "        U[n+1] = U[n] + dt * f(U[n], t[n])\n",
    "    figure(figsize=(8,4))\n",
    "    plot(t,U,'r-o', label='Euler')\n",
    "    plot(tfine, ufine, 'b', label='true')\n",
    "    xlim(0,12)\n",
    "    legend()\n",
    "    title('%i steps, dt = %7.4f' % (nsteps, dt))\n",
    "    "
   ]
  },
  {
   "cell_type": "code",
   "execution_count": null,
   "metadata": {
    "collapsed": false
   },
   "outputs": [],
   "source": [
    "euler(25)"
   ]
  },
  {
   "cell_type": "markdown",
   "metadata": {},
   "source": [
    "You can change the value of `nsteps` in the cell above and re-execute, or we can use an interactive widget to display results for all values of `nsteps` between 20 and 30:"
   ]
  },
  {
   "cell_type": "code",
   "execution_count": null,
   "metadata": {
    "collapsed": false
   },
   "outputs": [],
   "source": [
    "interact(euler, nsteps=(20,30,1))"
   ]
  },
  {
   "cell_type": "markdown",
   "metadata": {},
   "source": [
    "## Midpoint method\n",
    "\n",
    "$U^{n+1} = U^{n-1} + 2k f(U^n, t_n)$.\n",
    "\n",
    "We will use forward Euler to compute $U^1$ from $U^0=\\eta$."
   ]
  },
  {
   "cell_type": "code",
   "execution_count": null,
   "metadata": {
    "collapsed": true
   },
   "outputs": [],
   "source": [
    "def midpoint(nsteps):\n",
    "    t = linspace(t0, tfinal, nsteps+1)\n",
    "    dt = t[1] - t[0]\n",
    "    U = empty(nsteps+1)  # array for computed solution\n",
    "    U[0] = eta\n",
    "    U[1] = eta + dt * f(U[0], t[0])  # Forward Euler \n",
    "    for n in range(1,nsteps):\n",
    "        U[n+1] = U[n-1] + 2*dt * f(U[n], t[n])\n",
    "        if abs(U[n+1]) > 10:\n",
    "            break # since it grows exponentially\n",
    "    figure(figsize=(8,4))\n",
    "    plot(t[:n+1],U[:n+1],'r-o', label='Midpoint')\n",
    "    plot(tfine, ufine, 'b', label='true')\n",
    "    xlim(0,12)\n",
    "    legend()\n",
    "    title('%i steps, dt = %7.4f' % (nsteps, dt))\n",
    "    "
   ]
  },
  {
   "cell_type": "code",
   "execution_count": null,
   "metadata": {
    "collapsed": false
   },
   "outputs": [],
   "source": [
    "midpoint(50)"
   ]
  },
  {
   "cell_type": "markdown",
   "metadata": {},
   "source": [
    "## A non-convergent method\n",
    "\n",
    "Now consider the LMM \n",
    "$$\n",
    "U^{n+2} - 3U^{n+1} + 2U^n = -k f(U^n,t_n).\n",
    "$$\n",
    "The local truncation error is $\\tau^n = \\frac 5 2 k u\\prime\\prime(t_n) + O(k^2)$, so it is consistent and locally \"first-order accurate\".  But it does not converge at any fixed $T>0$. "
   ]
  },
  {
   "cell_type": "code",
   "execution_count": null,
   "metadata": {
    "collapsed": false
   },
   "outputs": [],
   "source": [
    "def bad_method(nsteps):\n",
    "    t = linspace(t0, tfinal, nsteps+1)\n",
    "    dt = t[1] - t[0]\n",
    "    U = empty(nsteps+1)  # array for computed solution\n",
    "    U[0] = eta\n",
    "    U[1] = eta + dt * f(U[0], t[0])  # Forward Euler \n",
    "    for n in range(1,nsteps):\n",
    "        U[n+1] = 3*U[n] - 2*U[n-1] - dt * f(U[n], t[n])\n",
    "        if abs(U[n+1]) > 10:\n",
    "            break # since it grows exponentially\n",
    "    figure(figsize=(8,4))\n",
    "    plot(t[:n+1],U[:n+1],'r-o', label='Bad method')\n",
    "    plot(tfine, ufine, 'b', label='true')\n",
    "    xlim(0,12)\n",
    "    legend()\n",
    "    title('%i steps, dt = %7.4f' % (nsteps, dt))"
   ]
  },
  {
   "cell_type": "code",
   "execution_count": null,
   "metadata": {
    "collapsed": false
   },
   "outputs": [],
   "source": [
    "bad_method(50)"
   ]
  },
  {
   "cell_type": "code",
   "execution_count": null,
   "metadata": {
    "collapsed": true
   },
   "outputs": [],
   "source": []
  }
 ],
 "metadata": {
  "kernelspec": {
   "display_name": "Python 2",
   "language": "python",
   "name": "python2"
  },
  "language_info": {
   "codemirror_mode": {
    "name": "ipython",
    "version": 2
   },
   "file_extension": ".py",
   "mimetype": "text/x-python",
   "name": "python",
   "nbconvert_exporter": "python",
   "pygments_lexer": "ipython2",
   "version": "2.7.11"
  }
 },
 "nbformat": 4,
 "nbformat_minor": 0
}
