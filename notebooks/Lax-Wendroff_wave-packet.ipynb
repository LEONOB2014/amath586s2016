{
 "cells": [
  {
   "cell_type": "markdown",
   "metadata": {},
   "source": [
    "# Lax-Wendroff method for advection with wave packet initial data\n",
    "\n",
    "[AMath 586, Spring Quarter 2016](http://faculty.washington.edu/rjl/classes/am586s2016/)\n",
    "\n",
    "Sample program to solve the advection equation with the Lax-Wendroff method and demonstrate dispersion using wave packet initial data."
   ]
  },
  {
   "cell_type": "code",
   "execution_count": 4,
   "metadata": {
    "collapsed": false
   },
   "outputs": [],
   "source": [
    "%pylab inline"
   ]
  },
  {
   "cell_type": "markdown",
   "metadata": {},
   "source": [
    "For making animations with an `interact`, we will accumulate a list `figs` of the figures for the animation and then use the function `animate_figs` to loop through them:"
   ]
  },
  {
   "cell_type": "code",
   "execution_count": 51,
   "metadata": {
    "collapsed": true
   },
   "outputs": [],
   "source": [
    "from ipywidgets import interact\n",
    "import ipywidgets as widgets\n",
    "\n",
    "def animate_figs(figs):\n",
    "    interact(lambda n: display(figs[n]), n=widgets.IntSlider(min=0,max=len(figs)-1, value=0))"
   ]
  },
  {
   "cell_type": "markdown",
   "metadata": {},
   "source": [
    "The code from the notebook Lax-Wendroff_periodic is copied below, with a change to the initial data and the ylimits for plotting."
   ]
  },
  {
   "cell_type": "code",
   "execution_count": 43,
   "metadata": {
    "collapsed": false
   },
   "outputs": [],
   "source": [
    "def advection_LW_pbc(m, nsteps, xi0=100, nplot=None, verbose=False):\n",
    "    \"\"\"\n",
    "    Solve u_t + au_x = 0  on [ax,bx] with periodic boundary conditions,\n",
    "    using the Lax-Wendroff method with m interior points.\n",
    "     \n",
    "    Returns k, h, and the max-norm of the error\n",
    "     \n",
    "    \"\"\"\n",
    "\n",
    "    a = 2             # advection velocity\n",
    "    \n",
    "    ax = 0.\n",
    "    bx = 1.\n",
    "    tfinal = 1.                # final time\n",
    "    \n",
    "    def eta(x):\n",
    "        \"\"\"Initial conditions\"\"\"\n",
    "        beta = 100.\n",
    "        return exp(-beta*(x - 0.5)**2) * cos(xi0*x)\n",
    "\n",
    "    def utrue(x,t):\n",
    "        \"\"\"\n",
    "        True solution for comparison.\n",
    "        For periodic BC's, we need the periodic extension of eta(x).\n",
    "        Map x-a*t-ax back to interval of length bx-ax\n",
    "        and then evaluate initial data at this point.\n",
    "        \"\"\"\n",
    "        xat = ax + mod(x - a*t - ax, bx-ax)\n",
    "        return eta(xat)\n",
    "\n",
    "\n",
    "    h = (bx-ax)/float(m+1)     # h = delta x\n",
    "    k = tfinal / float(nsteps) # time step\n",
    "    nu = a*k/h                 # Courant number\n",
    "    \n",
    "    xgrid = linspace(ax, bx, m+2)\n",
    "            \n",
    "    I = array(range(m+1), dtype=int)   # indices of unknowns 0, 1, ..., m\n",
    "    Im1 = mod(I-1, m+1)\n",
    "    Ip1 = mod(I+1, m+1)\n",
    "\n",
    "    if verbose:\n",
    "        print \"Will take %i time steps with k = %g, h = %g\" % (nsteps,k,h)\n",
    "        if nplot is not None:\n",
    "            print \"    and plot every %i time steps\" % nplot\n",
    "\n",
    "        print \"The Courant number is nu = a*k/h = %g\" % nu\n",
    "        if abs(nu) > 1:\n",
    "                print \"*** Warning: the method is unstable!\"\n",
    "                \n",
    "        print \"Wave packet data with xi0 = %g\" % xi0\n",
    "        print \"The advection velocity is a = %6.3f\" % a\n",
    "        cg = a - 1/2. * a * h**2 * (1 - (a*k/h)**2) * xi0**2\n",
    "        print \"The group velocity is cg = %6.3f\" % cg\n",
    "\n",
    "\n",
    "    \n",
    "    # initial conditions:\n",
    "    u0 = eta(xgrid)\n",
    "\n",
    "    # initial data on fine grid for plotting:\n",
    "    xfine = linspace(ax,bx,1001)\n",
    "    ufine = utrue(xfine,0)\n",
    "\n",
    "    # make plot directory for storing png files:\n",
    "    figs = []   # empty list, to accumulate figures\n",
    "        \n",
    "    if nplot is not None:\n",
    " \n",
    "        # plot initial data:\n",
    "        fig = figure(figsize=(10,5))\n",
    "        plot(xgrid,u0,'b.-', label='computed')\n",
    "        plot(xfine,ufine,'r', label='true')\n",
    "        axis([ax,bx,-1.2,1.2])\n",
    "        legend()\n",
    "        title('Initial data at time = 0')\n",
    "    \n",
    "        # Save this frame:\n",
    "        figs.append(fig)\n",
    "\n",
    "        \n",
    "    # main time-stepping loop:\n",
    "    \n",
    "    tn = 0.\n",
    "    u = eta(xgrid)  # initial data\n",
    "\n",
    "    for n in range(1,nsteps+1):\n",
    "        tnp = tn + k   # = t_{n+1}\n",
    "        \n",
    "        # Lax-Wendroff:\n",
    "        u[I] = u[I] - 0.5*nu*(u[Ip1] - u[Im1]) + \\\n",
    "                      0.5*nu**2 * (u[Im1] - 2*u[I] + u[Ip1])\n",
    "            \n",
    "        u[m+1] = u[0]  # for plotting\n",
    "\n",
    "        # plot results at desired times:\n",
    "        if nplot is not None:\n",
    "            if mod(n,nplot)==0 or n==nsteps:\n",
    "                uint = u[0:m+2]  # points on the interval (drop ghost cell on right)\n",
    "                ufine = utrue(xfine,tnp)\n",
    "                \n",
    "                fig = figure(figsize=(10,5))\n",
    "                plot(xgrid,u,'b.-', label='computed')\n",
    "                plot(xfine,ufine,'r', label='true')\n",
    "                axis([ax,bx,-1.2,1.2])\n",
    "                title('t = %9.5e  after %4i time steps with %5i grid points' \\\n",
    "                               % (tnp,n,m+1))\n",
    "                # Save this frame:\n",
    "                figs.append(fig)\n",
    "                \n",
    "        tn = tnp   # for next time step\n",
    "        close('all')  # close figure\n",
    "        \n",
    "    error = max(abs(u[0:m+2] - utrue(xgrid,tfinal)))\n",
    "    return h,k,error,figs\n"
   ]
  },
  {
   "cell_type": "code",
   "execution_count": 60,
   "metadata": {
    "collapsed": false
   },
   "outputs": [],
   "source": [
    "r_vals = array([1,2,4,8,16,32], dtype=int)\n",
    "m_vals = 50*r_vals - 1\n",
    "nsteps_vals = 120*r_vals\n",
    "E = empty(len(nsteps_vals))\n",
    "\n",
    "# print table header:\n",
    "print \"   h         dt          error      ratio  estimated order\"\n",
    "\n",
    "for j in range(len(r_vals)):\n",
    "    m = nsteps_vals[j]/4 - 1\n",
    "    h,dt,E[j],figs = advection_LW_pbc(m=m_vals[j], nsteps=nsteps_vals[j], \\\n",
    "                                      xi0=100)\n",
    "    if j>0:\n",
    "        ratio = E[j-1] / E[j]\n",
    "    else:\n",
    "        ratio = nan\n",
    "    p = log(ratio)/log(2)\n",
    "    print \"%8.6f  %8.6f  %12.8f    %4.2f        %4.2f\" % (h, dt, E[j], ratio, p)\n",
    "\n",
    "h_vals = 1./(m_vals + 1)\n",
    "loglog(h_vals, E, '-o')\n",
    "title('Log-log plot of errors')\n",
    "xlabel('nsteps')\n",
    "ylabel('error')\n",
    "# savefig('LW_errors.png')"
   ]
  },
  {
   "cell_type": "markdown",
   "metadata": {},
   "source": [
    "## Create an animation of the solution"
   ]
  },
  {
   "cell_type": "code",
   "execution_count": 58,
   "metadata": {
    "collapsed": false
   },
   "outputs": [],
   "source": [
    "h,k,error,figs = advection_LW_pbc(m=299, nsteps=800, \\\n",
    "                                  xi0=100, nplot=20, verbose=True)"
   ]
  },
  {
   "cell_type": "code",
   "execution_count": 59,
   "metadata": {
    "collapsed": false
   },
   "outputs": [],
   "source": [
    "animate_figs(figs)"
   ]
  },
  {
   "cell_type": "code",
   "execution_count": null,
   "metadata": {
    "collapsed": true
   },
   "outputs": [],
   "source": []
  }
 ],
 "metadata": {
  "kernelspec": {
   "display_name": "Python 2",
   "language": "python",
   "name": "python2"
  },
  "language_info": {
   "codemirror_mode": {
    "name": "ipython",
    "version": 2
   },
   "file_extension": ".py",
   "mimetype": "text/x-python",
   "name": "python",
   "nbconvert_exporter": "python",
   "pygments_lexer": "ipython2",
   "version": "2.7.11"
  }
 },
 "nbformat": 4,
 "nbformat_minor": 0
}
