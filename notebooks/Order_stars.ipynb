{
 "cells": [
  {
   "cell_type": "markdown",
   "metadata": {},
   "source": [
    "# Order stars\n",
    "\n",
    "[AMath 586, Spring Quarter 2016](http://faculty.washington.edu/rjl/classes/am586s2016/)\n",
    "\n",
    "Plot the region of relative stability, also called the order star, for various 1-step methods."
   ]
  },
  {
   "cell_type": "code",
   "execution_count": null,
   "metadata": {
    "collapsed": false
   },
   "outputs": [],
   "source": [
    "%pylab inline"
   ]
  },
  {
   "cell_type": "code",
   "execution_count": null,
   "metadata": {
    "collapsed": false
   },
   "outputs": [],
   "source": [
    "seterr(divide='ignore', invalid='ignore')  # suppress divide by zero warnings"
   ]
  },
  {
   "cell_type": "code",
   "execution_count": null,
   "metadata": {
    "collapsed": true
   },
   "outputs": [],
   "source": [
    "from ipywidgets import interact"
   ]
  },
  {
   "cell_type": "code",
   "execution_count": null,
   "metadata": {
    "collapsed": true
   },
   "outputs": [],
   "source": [
    "def plotOS(R, axisbox = [-10, 10, -10, 10], npts=500):\n",
    "    xa, xb, ya, yb = axisbox\n",
    "\n",
    "    # compute ratio R(z) over a fine grid on the region [xa,xb] x [ya,yb]\n",
    "\n",
    "    x = linspace(xa,xb,npts)\n",
    "    y = linspace(ya,yb,npts)\n",
    "    X,Y = meshgrid(x,y)\n",
    "    Z = X + 1j*Y\n",
    "    Rval = R(Z)\n",
    "    Rrel = abs(Rval / exp(Z))\n",
    "\n",
    "    figure()\n",
    "    \n",
    "    levels = [-1e9,1,1e9]\n",
    "    CS1 = contourf(X, Y, Rrel, levels,\n",
    "                            colors = ('g', 'w'))\n",
    "\n",
    "    CS2 = contour(X, Y, Rrel, [1,],\n",
    "                           colors = ('k',),\n",
    "                           linewidths = (2,))\n",
    "    title('Order Star')\n",
    "    grid(True)\n",
    "    plot([xa,xb],[0,0],'k')  # x-axis\n",
    "    plot([0,0],[ya,yb],'k')  # y-axis\n",
    "\n",
    "    axis('scaled')  # scale x and y same so that circles are circular\n",
    "    axis(axisbox)   # set limits\n"
   ]
  },
  {
   "cell_type": "code",
   "execution_count": null,
   "metadata": {
    "collapsed": false
   },
   "outputs": [],
   "source": [
    "R = lambda z: 1+z\n",
    "plotOS(R, axisbox=[-5,5,-5,5])"
   ]
  },
  {
   "cell_type": "markdown",
   "metadata": {},
   "source": [
    "## Theta method"
   ]
  },
  {
   "cell_type": "code",
   "execution_count": null,
   "metadata": {
    "collapsed": true
   },
   "outputs": [],
   "source": [
    "def plotOS_theta(theta):\n",
    "    R = lambda z: (1. + (1-theta)*z) / (1-theta*z)\n",
    "    plotOS(R, npts=50)  # use fewer points so interact works well"
   ]
  },
  {
   "cell_type": "code",
   "execution_count": null,
   "metadata": {
    "collapsed": false
   },
   "outputs": [],
   "source": [
    "plotOS_theta(0.5)"
   ]
  },
  {
   "cell_type": "code",
   "execution_count": null,
   "metadata": {
    "collapsed": false
   },
   "outputs": [],
   "source": [
    "interact(plotOS_theta, theta=(0,1,.1))"
   ]
  },
  {
   "cell_type": "markdown",
   "metadata": {},
   "source": [
    "## Taylor series methods"
   ]
  },
  {
   "cell_type": "code",
   "execution_count": null,
   "metadata": {
    "collapsed": true
   },
   "outputs": [],
   "source": [
    "def plotOS_TS(r):\n",
    "    def R(z):\n",
    "        # return Rz = 1 + z + 0.5z^2 + ... + (1/r!) z^r\n",
    "        Rz = 1.\n",
    "        term = 1.\n",
    "        for j in range(1,r+1):\n",
    "            term = term * z/float(j)\n",
    "            Rz = Rz + term\n",
    "        return Rz\n",
    "            \n",
    "    plotOS(R, npts=300)  # use fewer points so interact works well\n",
    "    title('Taylor series method r = %i' % r)"
   ]
  },
  {
   "cell_type": "code",
   "execution_count": null,
   "metadata": {
    "collapsed": false
   },
   "outputs": [],
   "source": [
    "interact(plotOS_TS, r=(1,20,1))"
   ]
  },
  {
   "cell_type": "code",
   "execution_count": null,
   "metadata": {
    "collapsed": true
   },
   "outputs": [],
   "source": []
  }
 ],
 "metadata": {
  "kernelspec": {
   "display_name": "Python 2",
   "language": "python",
   "name": "python2"
  },
  "language_info": {
   "codemirror_mode": {
    "name": "ipython",
    "version": 2
   },
   "file_extension": ".py",
   "mimetype": "text/x-python",
   "name": "python",
   "nbconvert_exporter": "python",
   "pygments_lexer": "ipython2",
   "version": "2.7.11"
  }
 },
 "nbformat": 4,
 "nbformat_minor": 0
}
