{
 "cells": [
  {
   "cell_type": "markdown",
   "metadata": {},
   "source": [
    "# Example from Section 7.1 of the textbook\n",
    "\n",
    "[AMath 586, Spring Quarter 2016](http://faculty.washington.edu/rjl/classes/am586s2016/)\n",
    "\n",
    "Examples motivated by Section 7.1 of [Finite Difference Methods for ODEs and PDEs](http://faculty.washington.edu/rjl/fdmbook/)\n",
    "\n",
    "Solve $u'(t) = \\lambda (u-\\cos(t)) - \\sin(t)$ with initial data $u(t_0)=\\eta$.  The true solution is $u(t) = \\exp(\\lambda(t-t0))~(\\eta - \\cos(t_0)) + \\cos(t)$.\n",
    "\n",
    "Use forward Euler with various choices of $k = \\Delta t$ and $\\lambda < 0$.\n"
   ]
  },
  {
   "cell_type": "code",
   "execution_count": null,
   "metadata": {
    "collapsed": false
   },
   "outputs": [],
   "source": [
    "%pylab inline"
   ]
  },
  {
   "cell_type": "markdown",
   "metadata": {},
   "source": [
    "## Behavior of true solution\n",
    "\n",
    "Plot the solution for several different choices of $t_0$ and $\\eta$.  Observe how this changes if you modify $\\lambda$.\n"
   ]
  },
  {
   "cell_type": "code",
   "execution_count": null,
   "metadata": {
    "collapsed": false
   },
   "outputs": [],
   "source": [
    "lam = -1\n",
    "tfinal = 10.\n",
    "ntrials = 50\n",
    "r = rand(2*ntrials)  # an array of random numbers uniform in [0,1]\n",
    "\n",
    "tfine = linspace(0., tfinal, 1000)\n",
    "\n",
    "for nt in range(ntrials):\n",
    "    t0 = 8*r[2*nt]\n",
    "    eta = -2 + 4*r[2*nt+1]\n",
    "    utrue = lambda t: exp(lam*(t-t0))*(eta - cos(t0)) + cos(t)\n",
    "    ufine = utrue(tfine)\n",
    "    i = find(tfine>=t0).min()  # first index  where tfine[i] >= t0\n",
    "    plot(tfine[i:], utrue(tfine[i:]), 'b')\n",
    "\n",
    "plot(tfine, cos(tfine), 'r', linewidth=2)"
   ]
  },
  {
   "cell_type": "markdown",
   "metadata": {},
   "source": [
    "Define problem and Forward Euler solver:"
   ]
  },
  {
   "cell_type": "code",
   "execution_count": null,
   "metadata": {
    "collapsed": false
   },
   "outputs": [],
   "source": [
    "t0 = 0.\n",
    "eta = 1.5\n",
    "tfinal = 10.\n",
    "\n",
    "lam = -10.\n",
    "\n",
    "f = lambda u,t: lam*(u-cos(t)) - sin(t)\n",
    "\n",
    "utrue = lambda t: exp(lam*(t-t0))*(eta - cos(t0)) + cos(t)\n",
    "ufine = utrue(tfine)"
   ]
  },
  {
   "cell_type": "code",
   "execution_count": null,
   "metadata": {
    "collapsed": true
   },
   "outputs": [],
   "source": [
    "def euler(nsteps):\n",
    "    t = linspace(t0, tfinal, nsteps+1)\n",
    "    dt = t[1] - t[0]\n",
    "    \n",
    "    U = empty((nsteps+1,1))  # array for computed solution\n",
    "    U.fill(nan)  # initialize to not-a-number\n",
    "    \n",
    "    U[0,:] = eta\n",
    "    for n in range(nsteps):\n",
    "        U[n+1,:] = U[n,:] + dt * f(U[n,:], t[n])\n",
    "        if abs(U[n+1,0]) > 5.:\n",
    "            break\n",
    "        \n",
    "    figure(figsize=(8,5))\n",
    "    plot(tfine, ufine, 'b', label='true')\n",
    "    plot(t, U[:,0], 'r-o', label='forward Euler')\n",
    "    legend()  # uses the labels from the plot commands\n",
    "    title('%i steps, dt = %g, dt*lam=%g' % (nsteps, dt, (dt*lam)))"
   ]
  },
  {
   "cell_type": "markdown",
   "metadata": {},
   "source": [
    "Try this for different choices of nsteps, e.g. 45, 50, 80, 100, or 200.  For which values is the method absolutely stable?"
   ]
  },
  {
   "cell_type": "code",
   "execution_count": null,
   "metadata": {
    "collapsed": false
   },
   "outputs": [],
   "source": [
    "euler(80)"
   ]
  },
  {
   "cell_type": "code",
   "execution_count": null,
   "metadata": {
    "collapsed": true
   },
   "outputs": [],
   "source": []
  }
 ],
 "metadata": {
  "kernelspec": {
   "display_name": "Python 2",
   "language": "python",
   "name": "python2"
  },
  "language_info": {
   "codemirror_mode": {
    "name": "ipython",
    "version": 2
   },
   "file_extension": ".py",
   "mimetype": "text/x-python",
   "name": "python",
   "nbconvert_exporter": "python",
   "pygments_lexer": "ipython2",
   "version": "2.7.11"
  }
 },
 "nbformat": 4,
 "nbformat_minor": 0
}
