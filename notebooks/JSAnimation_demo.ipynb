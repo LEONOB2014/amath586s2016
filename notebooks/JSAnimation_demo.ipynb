{
 "cells": [
  {
   "cell_type": "markdown",
   "metadata": {},
   "source": [
    "# JSAnimation demo\n",
    "\n",
    "[AMath 586, Spring Quarter 2016](http://faculty.washington.edu/rjl/classes/am586s2016/)\n",
    "\n",
    "Illustration of how to view time dependent functions as an animation."
   ]
  },
  {
   "cell_type": "code",
   "execution_count": 1,
   "metadata": {
    "collapsed": false
   },
   "outputs": [],
   "source": [
    "%pylab inline"
   ]
  },
  {
   "cell_type": "markdown",
   "metadata": {},
   "source": [
    "Use the JSAnimation package to convert a set of png files into an animation, by producing java script that loops over the different images within a web browser.  \n",
    "\n",
    "See https://github.com/jakevdp/JSAnimation for details.  We also use some utility functions in the module `JSAnimation_frametools.py` in this directory.  \n",
    "\n",
    "If you want to use this in a different directory, e.g. `hw5`, then you should copy over the file `JSAnimation_frametools.py` so that it is available to import.  (Or put it somewhere on your `PYTHONPATH` if you want to use it more generally.)"
   ]
  },
  {
   "cell_type": "code",
   "execution_count": 2,
   "metadata": {
    "collapsed": false
   },
   "outputs": [],
   "source": [
    "import JSAnimation_frametools as J   # J is the local name to keep things short"
   ]
  },
  {
   "cell_type": "markdown",
   "metadata": {},
   "source": [
    "We first need to create a sequence of image files in png format, for different times, and save these in some directory.  Here we call the directory `_plots`.  The function `J.make_plotdir` creates this directory if it doesn't already exist and removes any old files in it (if `clobber = True`):"
   ]
  },
  {
   "cell_type": "code",
   "execution_count": 3,
   "metadata": {
    "collapsed": false
   },
   "outputs": [],
   "source": [
    "plotdir = '_plots'  # to store png files for each figure\n",
    "J.make_plotdir(plotdir, clobber=True)  # ok to clobber if it already exists"
   ]
  },
  {
   "cell_type": "markdown",
   "metadata": {},
   "source": [
    "## Create png files for each time frame\n",
    "\n",
    "Here we just plot a function $u(x,t) = u(x - t, 0)$ that is advecting with constant velocity 1.  \n",
    "\n",
    "As initial data we use a \"wave packet\", a sine wave modulated by a Gaussian.\n",
    "\n",
    "The next cell takes a while to execute since it must create a plot and save it for each step `n`."
   ]
  },
  {
   "cell_type": "code",
   "execution_count": 4,
   "metadata": {
    "collapsed": false
   },
   "outputs": [],
   "source": [
    "x = linspace(-2, 10, 1001)\n",
    "nsteps = 21\n",
    "tfinal = 10.\n",
    "dt = tfinal / float(nsteps)\n",
    "\n",
    "# wave packet initial data:\n",
    "eta = lambda x: sin(20*x) * exp(-5*x**2)\n",
    "\n",
    "# True solution of u_t + u_x = 0 with u(x,0) = eta:\n",
    "utrue = lambda x,t: eta(x - t)\n",
    "\n",
    "# Clean the _plots directory in case you re-execute this cell with different parameters:\n",
    "J.make_plotdir(plotdir, clobber=True)  \n",
    "\n",
    "for n in range(nsteps+1):\n",
    "    t = n*dt\n",
    "    u = utrue(x,t)\n",
    "    \n",
    "    clf()\n",
    "    plot(x,u,'b')\n",
    "    ylim(-1.2, 1.2)\n",
    "    title('Wave packet at t = %8.4f' % t, fontsize=20)\n",
    "    \n",
    "    # Save this frame:\n",
    "    J.save_frame(n, plotdir,verbose=False)\n",
    "    \n",
    "close('all')  # so no plot is shown when you execute this cell"
   ]
  },
  {
   "cell_type": "code",
   "execution_count": 5,
   "metadata": {
    "collapsed": false
   },
   "outputs": [],
   "source": [
    "ls _plots"
   ]
  },
  {
   "cell_type": "markdown",
   "metadata": {},
   "source": [
    "You can view these individually, e.g. the initial conditions are shown in [_plots/frame00000.png](_plots/frame00000.png)."
   ]
  },
  {
   "cell_type": "markdown",
   "metadata": {},
   "source": [
    "## Make an animation\n",
    "\n",
    "These frames can now be combined into an animation:"
   ]
  },
  {
   "cell_type": "code",
   "execution_count": 6,
   "metadata": {
    "collapsed": false
   },
   "outputs": [],
   "source": [
    "J.make_anim(plotdir, figsize=(9,4))"
   ]
  },
  {
   "cell_type": "markdown",
   "metadata": {
    "collapsed": true
   },
   "source": [
    "Note that the `-` and `+` buttons can be used to slow down or speed up the animation."
   ]
  },
  {
   "cell_type": "markdown",
   "metadata": {},
   "source": [
    "## Creating an html file to display on the web\n",
    "\n",
    "You can also make a self-contained web page, e.g. to share results on a webpage."
   ]
  },
  {
   "cell_type": "code",
   "execution_count": 7,
   "metadata": {
    "collapsed": false
   },
   "outputs": [],
   "source": [
    "anim = J.make_anim(plotdir, figsize=(9,4))\n",
    "J.make_html(anim, file_name='wave_packet.html', title=\"Wave packet demo\", \\\n",
    "            embed_frames = True, default_mode='once')"
   ]
  },
  {
   "cell_type": "markdown",
   "metadata": {},
   "source": [
    "The resulting html file [wave_packet.html](wave_packet.html) can be moved elsewhere and has all the figures embedded in it."
   ]
  },
  {
   "cell_type": "markdown",
   "metadata": {},
   "source": [
    "## Clawpack gallery\n",
    "\n",
    "JSAnimation is used to produce animations when the [Clawpack software](http://www.clawpack.org) (Conservation Laws Package) is used to solve hyperbolic PDEs.  Various examples can be viewed from the [Clawpack gallery](http://www.clawpack.org/galleries.html) if you click on an example and then on the `Plots` link and finally on one of the `JS Movies` links.  You might want to explore this gallery to get a better feel for the behavior of solutions to hyperbolic equations."
   ]
  }
 ],
 "metadata": {
  "kernelspec": {
   "display_name": "Python 2",
   "language": "python",
   "name": "python2"
  },
  "language_info": {
   "codemirror_mode": {
    "name": "ipython",
    "version": 2
   },
   "file_extension": ".py",
   "mimetype": "text/x-python",
   "name": "python",
   "nbconvert_exporter": "python",
   "pygments_lexer": "ipython2",
   "version": "2.7.11"
  }
 },
 "nbformat": 4,
 "nbformat_minor": 0
}
