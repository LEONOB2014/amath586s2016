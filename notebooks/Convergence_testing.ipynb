{
 "cells": [
  {
   "cell_type": "markdown",
   "metadata": {},
   "source": [
    "# Testing convergence and order of accuracy\n",
    "\n",
    "[AMath 586, Spring Quarter 2016](http://faculty.washington.edu/rjl/classes/am586s2016/)\n",
    "\n",
    "This notebook illustrates testing an ODE method to determine the order of accuracy. See Appendix A and particularly A.6 for more discussion of this.\n",
    "\n",
    "As an example, investigate the effect of errors in starting values on the accuracy of a linear multistep method."
   ]
  },
  {
   "cell_type": "code",
   "execution_count": null,
   "metadata": {
    "collapsed": false
   },
   "outputs": [],
   "source": [
    "%pylab inline"
   ]
  },
  {
   "cell_type": "markdown",
   "metadata": {},
   "source": [
    "### 2-stage Adams-Bashforth\n",
    "\n",
    "Suppose we apply the 2-stage Adams-Bashforth method to the ODE $u'(t) = Au(t)$ where \n",
    "$$A = \\left[\\begin{array}{rr}-2&0\\\\3&-1\\end{array}\\right].$$\n",
    "with initial data $u(0) = [1, ~-1]^T$.\n",
    "\n",
    "The exact solution is $u_1(t) = e^{-2t}, ~ u_2(t) = 2e^{-t} - 3e^{-2t}$."
   ]
  },
  {
   "cell_type": "code",
   "execution_count": null,
   "metadata": {
    "collapsed": true
   },
   "outputs": [],
   "source": [
    "t0 = 0.\n",
    "eta = array([1., -1.])\n",
    "A = array([[-2.,0.], [3.,-1.]])  # defines 2x2 matrix\n",
    "\n",
    "# function f(u,t) (as a \"lambda function\")\n",
    "f = lambda u,t: dot(A,u)  # matrix vector product\n",
    "\n",
    "utrue = lambda t: array([exp(-2*t),  2*exp(-t)-3*exp(-2*t)])"
   ]
  },
  {
   "cell_type": "code",
   "execution_count": null,
   "metadata": {
    "collapsed": false
   },
   "outputs": [],
   "source": [
    "def AB2(tfinal,nsteps, make_plot=True, u1_method=1):\n",
    "    \"\"\"\n",
    "    2-step Adams-Bashforth method.\n",
    "    u1_method defines how U^1 is computed from U^0 = eta.\n",
    "    \"\"\"\n",
    "    \n",
    "    t = linspace(t0, tfinal, nsteps+1)\n",
    "    dt = t[1] - t[0]\n",
    "    \n",
    "    # Array for computed solution\n",
    "    # give it two rows so each column is solution at one time,\n",
    "    # since function f(u) = A*u is matrix-vector multiplication\n",
    "    \n",
    "    U = empty((2,nsteps+1))  \n",
    "    U.fill(nan)\n",
    "    \n",
    "    U[:,0] = eta\n",
    "    \n",
    "    if u1_method == 0:\n",
    "        U[:,1] = eta\n",
    "    elif u1_method == 1:\n",
    "        U[:,1] = eta + dt * f(U[:,0], t[0])  # Forward Euler \n",
    "    else:\n",
    "        print \"*** Unrecognized u1_method\"\n",
    "        return None\n",
    "    \n",
    "    # Main time-stepping loop:\n",
    "    for n in range(0,nsteps-1):\n",
    "        U[:,n+2] = U[:,n+1] + 0.5*dt * (-f(U[:,n], t[n]) + 3*f(U[:,n+1],t[n+1]))\n",
    "\n",
    "    if make_plot:\n",
    "        tfine = linspace(t0, tfinal, 1000)  # fine grid for plotting true solution\n",
    "        ufine = utrue(tfine)\n",
    "        figure(figsize=(8,4))\n",
    "        plot(t,U[0,:],'bo', label='u0 - AB2', markersize=5)\n",
    "        plot(tfine, ufine[0,:], 'b', label='u0 - true')\n",
    "        plot(t,U[1,:],'ro', label='u1 - AB2', markersize=5)\n",
    "        plot(tfine, ufine[1,:], 'r', label='u1 - true')\n",
    "        legend()\n",
    "        title('%i steps, dt = %7.4f' % (nsteps, dt))\n",
    "    \n",
    "    error = U - utrue(t)\n",
    "    return error"
   ]
  },
  {
   "cell_type": "code",
   "execution_count": null,
   "metadata": {
    "collapsed": false
   },
   "outputs": [],
   "source": [
    "error = AB2(5., 40)"
   ]
  },
  {
   "cell_type": "markdown",
   "metadata": {},
   "source": [
    "### Pick a time to examine the error\n",
    "\n",
    "It's best to pick a time before the solution has decayed close to zero or the estimates of order might not be very good (since the error also decays exponentially to zero eventually)."
   ]
  },
  {
   "cell_type": "code",
   "execution_count": null,
   "metadata": {
    "collapsed": false
   },
   "outputs": [],
   "source": [
    "utrue(1.)  # check the solution at t = 1"
   ]
  },
  {
   "cell_type": "code",
   "execution_count": null,
   "metadata": {
    "collapsed": false
   },
   "outputs": [],
   "source": [
    "tfinal = 1.\n",
    "error = AB2(tfinal, 10, make_plot=False)\n",
    "print \"The shape of error is \",error.shape\n",
    "print \"Error at time %g is %s\" % (tfinal, error[:,-1])\n",
    "print \"One-norm of error is %g\" % norm(error[:,-1], 1)\n",
    "print \"Max-norm of error is %g\" % norm(error[:,-1], inf)"
   ]
  },
  {
   "cell_type": "code",
   "execution_count": null,
   "metadata": {
    "collapsed": false
   },
   "outputs": [],
   "source": [
    "for nsteps in [10,20,40,80]:\n",
    "    error = AB2(tfinal, nsteps, make_plot=False)\n",
    "    print \"nsteps = %i, 1-norm of error = %12.10f\" % (nsteps, norm(error[:,-1],1))"
   ]
  },
  {
   "cell_type": "code",
   "execution_count": null,
   "metadata": {
    "collapsed": false
   },
   "outputs": [],
   "source": [
    "previous_E = nan\n",
    "for nsteps in [10,20,40,80]:\n",
    "    error = AB2(tfinal, nsteps, make_plot=False)\n",
    "    E = norm(error[:,-1],1)\n",
    "    if nsteps>10:\n",
    "        ratio = previous_E / E\n",
    "        p = log(ratio)/log(2)\n",
    "        print \"nsteps = %i, ratio of errors = %12.10f, estimate p = %5.2f\" % (nsteps, ratio, p)\n",
    "    previous_E = E"
   ]
  },
  {
   "cell_type": "code",
   "execution_count": null,
   "metadata": {
    "collapsed": false
   },
   "outputs": [],
   "source": [
    "nsteps_vals = [2**j for j in range(1,12)]  # \"list comprehension\" in Python\n",
    "print \"Will test with nsteps = \", nsteps_vals"
   ]
  },
  {
   "cell_type": "code",
   "execution_count": null,
   "metadata": {
    "collapsed": false
   },
   "outputs": [],
   "source": [
    "# Test with u1_method==1:  Euler for U^1:\n",
    "E = empty(len(nsteps_vals))\n",
    "for j,nsteps in enumerate(nsteps_vals):\n",
    "    error = AB2(tfinal, nsteps, make_plot=False)\n",
    "    E[j] = norm(error[:,-1],1)\n",
    "    \n",
    "loglog(nsteps_vals, E, '-o')"
   ]
  },
  {
   "cell_type": "code",
   "execution_count": null,
   "metadata": {
    "collapsed": true
   },
   "outputs": [],
   "source": []
  }
 ],
 "metadata": {
  "kernelspec": {
   "display_name": "Python 2",
   "language": "python",
   "name": "python2"
  },
  "language_info": {
   "codemirror_mode": {
    "name": "ipython",
    "version": 2
   },
   "file_extension": ".py",
   "mimetype": "text/x-python",
   "name": "python",
   "nbconvert_exporter": "python",
   "pygments_lexer": "ipython2",
   "version": "2.7.11"
  }
 },
 "nbformat": 4,
 "nbformat_minor": 0
}
