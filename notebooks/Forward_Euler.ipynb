{
 "cells": [
  {
   "cell_type": "markdown",
   "metadata": {},
   "source": [
    "# Forward Euler method"
   ]
  },
  {
   "cell_type": "markdown",
   "metadata": {},
   "source": [
    "\n",
    "This notebook implements forward Euler on the problem $u\\prime(t) = \\lambda (u(t)-\\cos(t)) - \\sin(t)$ with data $u(0) = \\eta$."
   ]
  },
  {
   "cell_type": "code",
   "execution_count": null,
   "metadata": {
    "collapsed": false
   },
   "outputs": [],
   "source": [
    "%pylab inline"
   ]
  },
  {
   "cell_type": "code",
   "execution_count": null,
   "metadata": {
    "collapsed": false
   },
   "outputs": [],
   "source": [
    "lam = -5.\n",
    "t0 = 0.\n",
    "tfinal = 10.\n",
    "eta = 1.\n",
    "\n",
    "# function f(u,t) (as a \"lambda function\")\n",
    "f = lambda u,t: lam*(u-cos(t)) - sin(t)\n",
    "\n",
    "utrue = lambda t: exp(lam*(t-t0))*(eta - cos(t0)) + cos(t)\n",
    "\n",
    "tfine = linspace(t0, tfinal, 1000)  # fine grid for plotting true solution\n",
    "ufine = utrue(tfine)\n",
    "plot(tfine,ufine)\n",
    "title('True solution')"
   ]
  },
  {
   "cell_type": "code",
   "execution_count": null,
   "metadata": {
    "collapsed": false
   },
   "outputs": [],
   "source": [
    "nsteps = 100\n",
    "t = linspace(t0, tfinal, nsteps+1)\n",
    "dt = t[1] - t[0]\n",
    "\n",
    "U = empty(nsteps+1)  # array for computed solution\n",
    "U[0] = eta\n",
    "\n",
    "for n in range(nsteps):\n",
    "    U[n+1] = U[n] + dt * f(U[n], t[n])\n",
    "    \n",
    "figure(figsize=(8,4))\n",
    "plot(t,U,'r-o', label='Euler')\n",
    "plot(tfine, ufine, 'b', label='true')\n",
    "\n",
    "xlim(0,12)\n",
    "legend()\n",
    "\n",
    "title('%i steps, dt = %7.4f' % (nsteps, dt))"
   ]
  },
  {
   "cell_type": "code",
   "execution_count": null,
   "metadata": {
    "collapsed": true
   },
   "outputs": [],
   "source": []
  }
 ],
 "metadata": {
  "kernelspec": {
   "display_name": "Python 2",
   "language": "python",
   "name": "python2"
  },
  "language_info": {
   "codemirror_mode": {
    "name": "ipython",
    "version": 2
   },
   "file_extension": ".py",
   "mimetype": "text/x-python",
   "name": "python",
   "nbconvert_exporter": "python",
   "pygments_lexer": "ipython2",
   "version": "2.7.11"
  }
 },
 "nbformat": 4,
 "nbformat_minor": 0
}
