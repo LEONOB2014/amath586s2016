{
 "cells": [
  {
   "cell_type": "markdown",
   "metadata": {},
   "source": [
    "# Demo of animation via an interact\n",
    "\n",
    "[AMath 586, Spring Quarter 2016](http://faculty.washington.edu/rjl/classes/am586s2016/)\n",
    "\n",
    "This demonstrates how to generate figures at different times and then view them as an animation using the `interact` function in a Jupyter notebook"
   ]
  },
  {
   "cell_type": "code",
   "execution_count": 1,
   "metadata": {
    "collapsed": false
   },
   "outputs": [],
   "source": [
    "%pylab inline"
   ]
  },
  {
   "cell_type": "code",
   "execution_count": 2,
   "metadata": {
    "collapsed": true
   },
   "outputs": [],
   "source": [
    "from ipywidgets import interact\n",
    "import ipywidgets as widgets"
   ]
  },
  {
   "cell_type": "markdown",
   "metadata": {},
   "source": [
    "## Set up simple function to illustrate propagating wave packet:"
   ]
  },
  {
   "cell_type": "code",
   "execution_count": 20,
   "metadata": {
    "collapsed": true
   },
   "outputs": [],
   "source": [
    "x = linspace(-2, 10, 1001)\n",
    "nsteps = 20\n",
    "tfinal = 10.\n",
    "dt = tfinal / float(nsteps)\n",
    "\n",
    "# wave packet initial data:\n",
    "eta = lambda x: sin(20*x) * exp(-5*x**2)\n",
    "\n",
    "# True solution of u_t + u_x = 0 with u(x,0) = eta:\n",
    "utrue = lambda x,t: eta(x - t)"
   ]
  },
  {
   "cell_type": "markdown",
   "metadata": {},
   "source": [
    "## Create a figure at each time and add on to a list of figures\n",
    "\n",
    "The list `figs` is initialized as an empty list.  Each time a new plot is made, start by defining `fig = figure(...)` and append this `fig` object to the list `figs`."
   ]
  },
  {
   "cell_type": "code",
   "execution_count": 32,
   "metadata": {
    "collapsed": false
   },
   "outputs": [],
   "source": [
    "figs = []   # initialize to empty list\n",
    "\n",
    "for n in range(nsteps+1):\n",
    "    t = n*dt\n",
    "    u = utrue(x,t)\n",
    "    \n",
    "    fig = figure()\n",
    "    figs.append(fig)\n",
    "    \n",
    "    plot(x,u,'b')\n",
    "    ylim(-1.2, 1.2)\n",
    "    title('Wave packet at t = %8.3f' % t, fontsize=20)\n",
    "       \n",
    "    close(fig)  # so no plot is shown when you execute this cell"
   ]
  },
  {
   "cell_type": "markdown",
   "metadata": {},
   "source": [
    "## View one figure:\n",
    "\n",
    "You can view any frame from the list `figs` using, for example:"
   ]
  },
  {
   "cell_type": "code",
   "execution_count": 26,
   "metadata": {
    "collapsed": false
   },
   "outputs": [],
   "source": [
    "display(figs[3])"
   ]
  },
  {
   "cell_type": "markdown",
   "metadata": {},
   "source": [
    "## Animate the list of figures\n",
    "\n",
    "This general function is useful to create an animation out of all the figures in `figs`.\n",
    "\n",
    "Note that a `lambda` function is used as the function that `interact` is applied to, which just displays `figs[n]`. The `widget.IntSlider` is a more general way to spacify the slider and what set of values `n` loops over.  In particular, it allows specifying `value=0` so that the slider starts out at the first frame, rather in the middle (which is the default if you don't specify a value)."
   ]
  },
  {
   "cell_type": "code",
   "execution_count": 29,
   "metadata": {
    "collapsed": true
   },
   "outputs": [],
   "source": [
    "def animate_figs(figs):\n",
    "    interact(lambda n: display(figs[n]), \\\n",
    "             n=widgets.IntSlider(min=0,max=len(figs)-1, value=0))"
   ]
  },
  {
   "cell_type": "code",
   "execution_count": 30,
   "metadata": {
    "collapsed": false
   },
   "outputs": [],
   "source": [
    "animate_figs(figs)"
   ]
  },
  {
   "cell_type": "code",
   "execution_count": null,
   "metadata": {
    "collapsed": true
   },
   "outputs": [],
   "source": []
  }
 ],
 "metadata": {
  "kernelspec": {
   "display_name": "Python 2",
   "language": "python",
   "name": "python2"
  },
  "language_info": {
   "codemirror_mode": {
    "name": "ipython",
    "version": 2
   },
   "file_extension": ".py",
   "mimetype": "text/x-python",
   "name": "python",
   "nbconvert_exporter": "python",
   "pygments_lexer": "ipython2",
   "version": "2.7.11"
  }
 },
 "nbformat": 4,
 "nbformat_minor": 0
}
