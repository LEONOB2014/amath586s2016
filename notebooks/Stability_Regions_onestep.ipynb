{
 "cells": [
  {
   "cell_type": "markdown",
   "metadata": {},
   "source": [
    "[AMath 586, Spring Quarter 2016](http://faculty.washington.edu/rjl/classes/am586s2016/)\n",
    "\n",
    "Plot the region of absolute stability for various 1-step methods."
   ]
  },
  {
   "cell_type": "code",
   "execution_count": null,
   "metadata": {
    "collapsed": false
   },
   "outputs": [],
   "source": [
    "%pylab inline"
   ]
  },
  {
   "cell_type": "code",
   "execution_count": null,
   "metadata": {
    "collapsed": false
   },
   "outputs": [],
   "source": [
    "seterr(divide='ignore', invalid='ignore')  # suppress divide by zero warnings"
   ]
  },
  {
   "cell_type": "code",
   "execution_count": null,
   "metadata": {
    "collapsed": true
   },
   "outputs": [],
   "source": [
    "from ipywidgets import interact"
   ]
  },
  {
   "cell_type": "code",
   "execution_count": null,
   "metadata": {
    "collapsed": true
   },
   "outputs": [],
   "source": [
    "def plotS(R, axisbox = [-10, 10, -10, 10], npts=500):\n",
    "    xa, xb, ya, yb = axisbox\n",
    "\n",
    "    # compute ratio R(z) over a fine grid on the region [xa,xb] x [ya,yb]\n",
    "\n",
    "    x = linspace(xa,xb,npts)\n",
    "    y = linspace(ya,yb,npts)\n",
    "    X,Y = meshgrid(x,y)\n",
    "    Z = X + 1j*Y\n",
    "    Rval = R(Z)\n",
    "\n",
    "    #----------------------------------------------------------------------\n",
    "    # Plot S, region of absolute stability:\n",
    "\n",
    "    Rabs = abs(Rval)\n",
    "\n",
    "    # plot Rabs with a color map that is shaded in S (where Rabs < 1)\n",
    "    # and which in complement (where Rabs > 1).\n",
    "\n",
    "    figure()\n",
    "    \n",
    "    # Now make a contour plot with the levels specified,\n",
    "    # and with the colormap generated automatically from a list\n",
    "    # of colors.\n",
    "    levels = [-1e9,1,1e9]\n",
    "    CS1 = contourf(X, Y, Rabs, levels,\n",
    "                            colors = ('g', 'w'))\n",
    "\n",
    "    CS2 = contour(X, Y, Rabs, [1,],\n",
    "                           colors = ('k',),\n",
    "                           linewidths = (2,))\n",
    "    title('Region of absolute stability')\n",
    "    grid(True)\n",
    "    plot([xa,xb],[0,0],'k')  # x-axis\n",
    "    plot([0,0],[ya,yb],'k')  # y-axis\n",
    "\n",
    "    axis('scaled')  # scale x and y same so that circles are circular\n",
    "    axis(axisbox)   # set limits\n"
   ]
  },
  {
   "cell_type": "code",
   "execution_count": null,
   "metadata": {
    "collapsed": false
   },
   "outputs": [],
   "source": [
    "R = lambda z: 1+z\n",
    "plotS(R, axisbox=[-5,5,-5,5])"
   ]
  },
  {
   "cell_type": "markdown",
   "metadata": {},
   "source": [
    "## Theta method"
   ]
  },
  {
   "cell_type": "code",
   "execution_count": null,
   "metadata": {
    "collapsed": true
   },
   "outputs": [],
   "source": [
    "def plotS_theta(theta):\n",
    "    R = lambda z: (1. + (1-theta)*z) / (1-theta*z)\n",
    "    plotS(R, npts=50)  # use fewer points so interact works well"
   ]
  },
  {
   "cell_type": "code",
   "execution_count": null,
   "metadata": {
    "collapsed": false
   },
   "outputs": [],
   "source": [
    "plotS_theta(0.5)"
   ]
  },
  {
   "cell_type": "code",
   "execution_count": null,
   "metadata": {
    "collapsed": false
   },
   "outputs": [],
   "source": [
    "interact(plotS_theta, theta=(0,1,.1))"
   ]
  },
  {
   "cell_type": "markdown",
   "metadata": {},
   "source": [
    "## Taylor series methods"
   ]
  },
  {
   "cell_type": "code",
   "execution_count": null,
   "metadata": {
    "collapsed": true
   },
   "outputs": [],
   "source": [
    "def plotS_TS(r):\n",
    "    def R(z):\n",
    "        # return Rz = 1 + z + 0.5z^2 + ... + (1/r!) z^r\n",
    "        Rz = 1.\n",
    "        term = 1.\n",
    "        for j in range(1,r+1):\n",
    "            term = term * z/float(j)\n",
    "            Rz = Rz + term\n",
    "        return Rz\n",
    "            \n",
    "    plotS(R, npts=300)  # use fewer points so interact works well\n",
    "    title('Taylor series method r = %i' % r)"
   ]
  },
  {
   "cell_type": "code",
   "execution_count": null,
   "metadata": {
    "collapsed": false
   },
   "outputs": [],
   "source": [
    "interact(plotS_TS, r=(1,20,1))"
   ]
  },
  {
   "cell_type": "code",
   "execution_count": null,
   "metadata": {
    "collapsed": true
   },
   "outputs": [],
   "source": []
  }
 ],
 "metadata": {
  "kernelspec": {
   "display_name": "Python 2",
   "language": "python",
   "name": "python2"
  },
  "language_info": {
   "codemirror_mode": {
    "name": "ipython",
    "version": 2
   },
   "file_extension": ".py",
   "mimetype": "text/x-python",
   "name": "python",
   "nbconvert_exporter": "python",
   "pygments_lexer": "ipython2",
   "version": "2.7.11"
  }
 },
 "nbformat": 4,
 "nbformat_minor": 0
}
