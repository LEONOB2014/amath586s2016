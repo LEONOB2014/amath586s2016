{
 "cells": [
  {
   "cell_type": "markdown",
   "metadata": {},
   "source": [
    "# Solving the heat equation with Crank-Nicolson\n",
    "\n",
    "[AMath 586, Spring Quarter 2016](http://faculty.washington.edu/rjl/classes/am586s2016/)\n",
    "\n",
    "Sample program to solve the heat equation with the Crank-Nicolson method.\n"
   ]
  },
  {
   "cell_type": "code",
   "execution_count": 1,
   "metadata": {
    "collapsed": false
   },
   "outputs": [],
   "source": [
    "%pylab inline"
   ]
  },
  {
   "cell_type": "markdown",
   "metadata": {},
   "source": [
    "The function below solves the heat equation $u_t = \\kappa u_{xx}$ on the interval $0\\leq x \\leq 1$ with Dirichlet boundary conditions $u(0,t) = g_0(t)$ and $u(1,t) = g_1(t)$.  \n",
    "\n",
    "It is set up to solve the equation for a case where the exact solution is known, the decaying Gaussian\n",
    "$$\n",
    "u(x,t) = \\frac{1}{\\sqrt{4\\beta\\kappa t + 1}} \\exp\\left(\\frac{-(x-x_0)^2}{4\\kappa t + 1/\\beta}\\right).\n",
    "$$\n",
    "The initial data and boundary conditions are obtained by evaluating this function at $t=0$ or at $x=0$ or $x=1$. In particular, the initial conditions are simply\n",
    "$$\n",
    "u(x,0) = \\eta(x) = \\exp(-\\beta(x-x_0)^2).\n",
    "$$\n"
   ]
  },
  {
   "cell_type": "code",
   "execution_count": 2,
   "metadata": {
    "collapsed": true
   },
   "outputs": [],
   "source": [
    "\n",
    "def heat_CN(m,nsteps,nplot=None):\n",
    "    \"\"\"\n",
    "    Solve u_t = kappa * u_{xx} on [ax,bx] with Dirichlet boundary conditions,\n",
    "    using the Crank-Nicolson method with m interior points, taking nsteps\n",
    "    time steps.  \n",
    "    \n",
    "    If nplot is not None, a plot will be generated and the max-norm of error\n",
    "    printed every nplot time steps and at the final time.\n",
    "    \n",
    "    Returns dt, h, and the max-norm of the error.\n",
    "    This routine can be embedded in a loop on m to test the accuracy.\n",
    "    \n",
    "    Note: the vector x defined below is of length m+2 and includes both boundary points.\n",
    "    The vector uint is of length m and is only the interior points that we solve for,\n",
    "    by solving an m by m linear system each time step.\n",
    "    The vector u is of length m+2 and obtained by extending uint with the boundary values,\n",
    "    so that plotting (x,u) includes the boundary values.\n",
    "    \n",
    "    \"\"\"\n",
    "\n",
    "    from scipy import sparse\n",
    "    from scipy.sparse.linalg import spsolve\n",
    "        \n",
    "    ax = 0\n",
    "    bx = 1\n",
    "    kappa = .02               # heat conduction coefficient:\n",
    "    tfinal = 1.               # final time\n",
    "    \n",
    "    h = (bx-ax)/float(m+1)    # h = delta x\n",
    "    x = linspace(ax,bx,m+2)   # note x(1)=0 and x(m+2)=1\n",
    "                               # u(1)=g0 and u(m+2)=g1 are known from BC's\n",
    "    dt = tfinal / float(nsteps)\n",
    "    \n",
    "    \n",
    "    # true solution for comparison:\n",
    "    # For Gaussian initial conditions u(x,0) = exp(-beta * (x-x0)^2)\n",
    "    beta = 150\n",
    "    x0 = 0.4\n",
    "    utrue = lambda x,t: exp(-(x-0.4)**2 / (4*kappa*t + 1./beta)) \\\n",
    "                / sqrt(4*beta*kappa*t+1.) \n",
    "    \n",
    "    # initial conditions:\n",
    "    u0 = utrue(x,0)\n",
    "    \n",
    "    \n",
    "    # Each time step we solve MOL system U' = AU + g using the Trapezoidal method\n",
    "    \n",
    "    # set up matrices:\n",
    "    r = 0.5 * kappa* dt/(h**2)\n",
    "    em = ones(m)\n",
    "    em1 = ones(m-1)\n",
    "    A = sparse.diags([em1, -2*em, em1], [-1, 0, 1], shape=(m,m))\n",
    "    A1 = sparse.eye(m) - r * A\n",
    "    A2 = sparse.eye(m) + r * A\n",
    "    \n",
    "    \n",
    "    # initial data on fine grid for plotting:\n",
    "    xfine = linspace(ax,bx,1001)\n",
    "    ufine = utrue(xfine,0)\n",
    "    \n",
    "    # initialize u and plot:\n",
    "    tn = 0\n",
    "    u = u0\n",
    "    \n",
    "    if nplot is not None:\n",
    "        print \"h = %g, dt = %g\"  % (h,dt)\n",
    "        plot(x,u,'b.-',label='computed')\n",
    "        plot(xfine,ufine,'r',label='true')\n",
    "        legend()\n",
    "        ylim([-0.1, 1.1])\n",
    "        title('Plot every %i timesteps with m = %i, nsteps = %i' % (nplot,m,nsteps))    \n",
    "    \n",
    "    \n",
    "    # main time-stepping loop:\n",
    "    \n",
    "    for n in range(1,nsteps+1):\n",
    "        tnp = tn + dt   # = t_{n+1}\n",
    "    \n",
    "        # boundary values u(0,t) and u(1,t) at times tn and tnp:\n",
    "        # already set at time tn in array u:\n",
    "        g0n = u[0]\n",
    "        g1n = u[m+1]\n",
    "        \n",
    "        # evaluate true solution to get new boundary values at tnp:\n",
    "        g0np = utrue(ax,tnp)\n",
    "        g1np = utrue(bx,tnp)\n",
    "    \n",
    "        # compute right hand side for linear system:\n",
    "        uint = u[1:m+1]   # interior points (unknowns)\n",
    "        rhs = A2.dot(uint)   # sparse matrix-vector product A2 * uint\n",
    "        # fix-up right hand side using BC's (i.e. add vector g to A2*uint)\n",
    "        rhs[0] = rhs[0] + r*(g0n + g0np)\n",
    "        rhs[m-1] = rhs[m-1] + r*(g1n + g1np)\n",
    "    \n",
    "        # solve linear system:\n",
    "        uint = spsolve(A1,rhs)   # sparse solver\n",
    "            \n",
    "        # augment with boundary values:\n",
    "        u = hstack([g0np, uint, g1np])\n",
    "        \n",
    "        error = abs(u-utrue(x,tnp)).max()\n",
    "    \n",
    "        # plot results at desired times:\n",
    "        if nplot is not None:\n",
    "            if mod(n,nplot)==0 or n==nsteps:\n",
    "                ufine = utrue(xfine,tnp)\n",
    "                plot(x,u,'b.-',label='computed')\n",
    "                plot(xfine,ufine,'r',label='true')                \n",
    "                print 'at time t = %9.5e  max error =  %9.5e' % (tnp,error)\n",
    "    \n",
    "        tn = tnp   # for next time step\n",
    "    \n",
    "    return h,dt,error "
   ]
  },
  {
   "cell_type": "markdown",
   "metadata": {},
   "source": [
    "## Test this with a few values of m and nsteps:"
   ]
  },
  {
   "cell_type": "code",
   "execution_count": 3,
   "metadata": {
    "collapsed": false
   },
   "outputs": [],
   "source": [
    "h,dt,error = heat_CN(9,10,2)"
   ]
  },
  {
   "cell_type": "code",
   "execution_count": 4,
   "metadata": {
    "collapsed": false
   },
   "outputs": [],
   "source": [
    "h,dt,error = heat_CN(19,20,4)"
   ]
  },
  {
   "cell_type": "markdown",
   "metadata": {},
   "source": [
    "## Test for second-order accuracy\n",
    "\n",
    "If dt and h are both reduced by 2, the error should go down by a factor 4 (for sufficiently small values)."
   ]
  },
  {
   "cell_type": "code",
   "execution_count": 5,
   "metadata": {
    "collapsed": false
   },
   "outputs": [],
   "source": [
    "nsteps_vals = [20,40,80,160,320]  # values to test\n",
    "E = empty(len(nsteps_vals))\n",
    "\n",
    "# print table header:\n",
    "print \"   h         dt          error      ratio  estimated order\"\n",
    "\n",
    "for j,nsteps in enumerate(nsteps_vals):\n",
    "    h,dt,E[j] = heat_CN(m=nsteps-1, nsteps=nsteps)\n",
    "    if j>0:\n",
    "        ratio = E[j-1] / E[j]\n",
    "    else:\n",
    "        ratio = nan\n",
    "    p = log(ratio)/log(2)\n",
    "    print \"%8.6f  %8.6f  %12.8f    %4.2f        %4.2f\" % (h, dt, E[j], ratio, p)\n",
    "\n",
    "loglog(nsteps_vals, E, '-o')\n",
    "title('Log-log plot of errors')\n",
    "xlabel('nsteps')\n",
    "ylabel('error')"
   ]
  },
  {
   "cell_type": "markdown",
   "metadata": {},
   "source": [
    "## Observe oscillations if dt is too large\n",
    "\n",
    "We know that Crank-Nicolson is stable for any time step, but the amplification factor approaches $-1$ as $k\\lambda \\rightarrow \\infty$, so we expect high wavenumber modes to oscillate in time if we take the time step too large. This can be observed with the Gaussian initial data used here."
   ]
  },
  {
   "cell_type": "code",
   "execution_count": 6,
   "metadata": {
    "collapsed": false
   },
   "outputs": [],
   "source": [
    "h,dt,error = heat_CN(39,2,1)"
   ]
  },
  {
   "cell_type": "code",
   "execution_count": null,
   "metadata": {
    "collapsed": true
   },
   "outputs": [],
   "source": []
  }
 ],
 "metadata": {
  "kernelspec": {
   "display_name": "Python 2",
   "language": "python",
   "name": "python2"
  },
  "language_info": {
   "codemirror_mode": {
    "name": "ipython",
    "version": 2
   },
   "file_extension": ".py",
   "mimetype": "text/x-python",
   "name": "python",
   "nbconvert_exporter": "python",
   "pygments_lexer": "ipython2",
   "version": "2.7.11"
  }
 },
 "nbformat": 4,
 "nbformat_minor": 0
}
