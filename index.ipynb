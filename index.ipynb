{
 "cells": [
  {
   "cell_type": "markdown",
   "metadata": {},
   "source": [
    "# Index of Jupyter notebooks\n",
    "\n",
    "[AMath 586, Spring Quarter 2016](http://faculty.washington.edu/rjl/classes/am586s2016/)\n",
    "\n",
    "- [notebooks/Demo1.ipynb](notebooks/Demo1.ipynb) (Wednesday 30 March 2016)\n",
    "- [notebooks/Oregonator.ipynb](notebooks/Oregonator.ipynb) (Friday 1 April 2016)\n",
    "- [notebooks/Forward_Euler.ipynb](notebooks/Forward_Euler.ipynb) (Wednesday 6 April 2016)\n",
    "- [notebooks/Convergence_of_LMMs.ipynb](notebooks/Convergence_of_LMMs.ipynb) (Wednesday 6 April 2016)\n",
    "\n"
   ]
  },
  {
   "cell_type": "code",
   "execution_count": null,
   "metadata": {
    "collapsed": true
   },
   "outputs": [],
   "source": []
  }
 ],
 "metadata": {
  "kernelspec": {
   "display_name": "Python 2",
   "language": "python",
   "name": "python2"
  },
  "language_info": {
   "codemirror_mode": {
    "name": "ipython",
    "version": 2
   },
   "file_extension": ".py",
   "mimetype": "text/x-python",
   "name": "python",
   "nbconvert_exporter": "python",
   "pygments_lexer": "ipython2",
   "version": "2.7.11"
  }
 },
 "nbformat": 4,
 "nbformat_minor": 0
}
